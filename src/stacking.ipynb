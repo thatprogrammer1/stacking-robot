{
 "cells": [
  {
   "cell_type": "markdown",
   "metadata": {
    "colab_type": "text",
    "id": "EgiF12Hf1Dhs"
   },
   "source": [
    "This notebook provides examples to go along with the [textbook](http://manipulation.csail.mit.edu/pose.html).  I recommend having both windows open, side-by-side!"
   ]
  },
  {
   "cell_type": "code",
   "execution_count": 1,
   "metadata": {
    "colab": {},
    "colab_type": "code",
    "id": "eeMrMI0-1Dhu"
   },
   "outputs": [
    {
     "name": "stderr",
     "output_type": "stream",
     "text": [
      "INFO:drake:Meshcat listening for connections at http://localhost:7000\n"
     ]
    }
   ],
   "source": [
    "\n",
    "import logging\n",
    "\n",
    "import numpy as np\n",
    "from pydrake.all import (RandomGenerator, RigidTransform,\n",
    "                         Simulator, UniformlyRandomRotationMatrix, StartMeshcat)\n",
    "\n",
    "from setup_diagram import BuildStackingDiagram, BuildStaticDiagram\n",
    "\n",
    "\n",
    "class NoDiffIKWarnings(logging.Filter):\n",
    "    def filter(self, record):\n",
    "        return not record.getMessage().startswith('Differential IK')\n",
    "\n",
    "\n",
    "logging.getLogger(\"drake\").addFilter(NoDiffIKWarnings())\n",
    "\n",
    "\n",
    "def clutter_clearing_demo():\n",
    "    meshcat.Delete()\n",
    "    rs = np.random.RandomState()  # this is for python\n",
    "    generator = RandomGenerator(rs.randint(1000))  # this is for c++\n",
    "    diagram, plant = BuildStaticDiagram(meshcat)\n",
    "\n",
    "    simulator = Simulator(diagram)\n",
    "    context = simulator.get_context()\n",
    "\n",
    "    plant_context = plant.GetMyMutableContextFromRoot(context)\n",
    "    z = 0.2\n",
    "    for body_index in plant.GetFloatingBaseBodies():\n",
    "        tf = RigidTransform(\n",
    "            UniformlyRandomRotationMatrix(generator),\n",
    "            [rs.uniform(.35, .65), rs.uniform(-.12, .28), z])\n",
    "        plant.SetFreeBodyPose(plant_context,\n",
    "                              plant.get_body(body_index),\n",
    "                              tf)\n",
    "        z += 0.1\n",
    "\n",
    "    simulator.AdvanceTo(0.1)\n",
    "    meshcat.Flush()  # Wait for the large object meshes to get to meshcat.\n",
    "\n",
    "    simulator.set_target_realtime_rate(1.0)\n",
    "    meshcat.AddButton(\"Stop Simulation\", \"Escape\")\n",
    "    print(\"Press Escape to stop the simulation\")\n",
    "    while meshcat.GetButtonClicks(\"Stop Simulation\") < 1:\n",
    "        simulator.AdvanceTo(simulator.get_context().get_time() + 2.0)\n",
    "    meshcat.DeleteButton(\"Stop Simulation\")\n",
    "\n",
    "\n",
    "meshcat = StartMeshcat()\n"
   ]
  },
  {
   "cell_type": "code",
   "execution_count": null,
   "metadata": {},
   "outputs": [
    {
     "name": "stdout",
     "output_type": "stream",
     "text": [
      "Press Escape to stop the simulation\n"
     ]
    }
   ],
   "source": [
    "clutter_clearing_demo()"
   ]
  }
 ],
 "metadata": {
  "colab": {
   "collapsed_sections": [],
   "name": "Robotic Manipulation - Geometric Pose Estimation.ipynb",
   "provenance": [],
   "toc_visible": true
  },
  "deepnote_notebook_id": "d50e0839-cf47-4bfb-b875-d2b348490fb4",
  "kernelspec": {
   "display_name": "Python 3 (ipykernel)",
   "language": "python",
   "name": "python3"
  },
  "language_info": {
   "codemirror_mode": {
    "name": "ipython",
    "version": 3
   },
   "file_extension": ".py",
   "mimetype": "text/x-python",
   "name": "python",
   "nbconvert_exporter": "python",
   "pygments_lexer": "ipython3",
   "version": "3.8.10"
  },
  "metadata": {
   "interpreter": {
    "hash": "aee8b7b246df8f9039afb4144a1f6fd8d2ca17a180786b69acc140d282b71a49"
   }
  },
  "vscode": {
   "interpreter": {
    "hash": "e7370f93d1d0cde622a1f8e1c04877d8463912d04d973331ad4851f04de6915a"
   }
  }
 },
 "nbformat": 4,
 "nbformat_minor": 1
}
